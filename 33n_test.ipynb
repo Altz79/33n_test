{
 "cells": [
  {
   "cell_type": "code",
   "execution_count": 1,
   "id": "9990dad1",
   "metadata": {},
   "outputs": [],
   "source": [
    "import pandas as pd"
   ]
  },
  {
   "cell_type": "code",
   "execution_count": 2,
   "id": "c51178c0",
   "metadata": {},
   "outputs": [],
   "source": [
    "diagnosis = pd.read_csv(\"diagnoses.csv\") \n",
    "\n",
    "events = pd.read_csv(\"events.csv\")"
   ]
  },
  {
   "cell_type": "code",
   "execution_count": 3,
   "id": "77fb5487",
   "metadata": {},
   "outputs": [],
   "source": [
    "def diagnosis_for_events(diagnosis, events):\n",
    "    \"\"\"Add extra column on the events table representing the most recent diagnosis after that event \n",
    "       Add flag columns to mark rows with: 1.Events with no ID, 2.Events with date older than diagnosis\n",
    "    \"\"\"\n",
    "    \n",
    "    # get diasnosis Time and Date into separate columns, convert strings into datetime format\n",
    "    time_date = diagnosis[\"DiagnosisDateTime\"].str.split(pat = ' ', expand = True)\n",
    "    diagnosis[['Diagnosis_time', 'Diagnosis_date']] = time_date\n",
    "    diagnosis['Diagnosis_date'] =  pd.to_datetime(diagnosis['Diagnosis_date'], format = \"%d/%m/%Y\")\n",
    "    diagnosis[\"Diagnosis_time\"] = pd.to_datetime(diagnosis['Diagnosis_time'],format= '%H:%M' ).dt.time\n",
    "    events['EventDateTime'] =  pd.to_datetime(events['EventDateTime'], format = \"%d/%m/%Y\")\n",
    "    \n",
    "    #keep rows with Nan values for diagnosis, by replacing for 'Not_specified'\n",
    "    diagnosis['Diagnosis'] = diagnosis['Diagnosis'].fillna('Not_specified')\n",
    "    \n",
    "    # get most recent diagnosis for each EventID\n",
    "    diagnosis = diagnosis.sort_values([\"EventID\", \"Diagnosis_time\", \"Diagnosis_date\"], ascending=[True, False, False])\n",
    "    latest_diagnosis = diagnosis.drop_duplicates(subset=['EventID'], keep='first')\n",
    "    del diagnosis\n",
    "    \n",
    "    # join diagnosis and event by \"EventID\"\n",
    "    output = pd.merge(events, latest_diagnosis[['EventID', 'Diagnosis', \"Diagnosis_date\"]], how=\"left\", on=['EventID'])\n",
    "    \n",
    "    # Flags:\n",
    "    #\"Diagnosis_date_before_event\"\n",
    "    output[\"Diagnosis_date_before_event\"] = output.apply(lambda x: True if x['EventDateTime'] \n",
    "                                                         > x['Diagnosis_date'] else False, axis=1)\n",
    "    \n",
    "    # \"No_EventId\"\n",
    "    output[\"No_event_id\"] = pd.isnull(output['EventID'])\n",
    "    \n",
    "    output.drop(columns=['Diagnosis_date'])\n",
    "    \n",
    "    return output"
   ]
  },
  {
   "cell_type": "code",
   "execution_count": 4,
   "id": "ff45644e",
   "metadata": {},
   "outputs": [],
   "source": [
    "output_file = diagnosis_for_events(diagnosis, events).to_csv(\"events_with_diagnosis.csv\", index = False)"
   ]
  }
 ],
 "metadata": {
  "kernelspec": {
   "display_name": "Python 3",
   "language": "python",
   "name": "python3"
  },
  "language_info": {
   "codemirror_mode": {
    "name": "ipython",
    "version": 3
   },
   "file_extension": ".py",
   "mimetype": "text/x-python",
   "name": "python",
   "nbconvert_exporter": "python",
   "pygments_lexer": "ipython3",
   "version": "3.8.8"
  }
 },
 "nbformat": 4,
 "nbformat_minor": 5
}
